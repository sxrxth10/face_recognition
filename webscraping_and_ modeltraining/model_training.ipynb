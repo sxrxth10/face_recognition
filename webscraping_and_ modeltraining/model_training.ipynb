{
 "cells": [
  {
   "cell_type": "markdown",
   "metadata": {},
   "source": [
    "## Train test split"
   ]
  },
  {
   "cell_type": "code",
   "execution_count": 4,
   "metadata": {},
   "outputs": [
    {
     "name": "stderr",
     "output_type": "stream",
     "text": [
      "Splitting Data: 100%|██████████| 26/26 [00:01<00:00, 16.86it/s]\n"
     ]
    }
   ],
   "source": [
    "import os\n",
    "import shutil\n",
    "import random\n",
    "from tqdm import tqdm\n",
    "\n",
    "# Paths\n",
    "input_dir = \"processed_footballers_updated\"  # This is the dataset after augmentation\n",
    "train_dir = \"dataset/train\"\n",
    "test_dir = \"dataset/test\"\n",
    "\n",
    "# Create directories\n",
    "os.makedirs(train_dir, exist_ok=True)\n",
    "os.makedirs(test_dir, exist_ok=True)\n",
    "\n",
    "# Split ratio\n",
    "split_ratio = 0.8\n",
    "\n",
    "# Process each player's folder\n",
    "for player in tqdm(os.listdir(input_dir), desc=\"Splitting Data\"):\n",
    "    player_path = os.path.join(input_dir, player)\n",
    "    \n",
    "    if not os.path.isdir(player_path):\n",
    "        continue\n",
    "\n",
    "    # Create player directories in train & test\n",
    "    train_player_path = os.path.join(train_dir, player)\n",
    "    test_player_path = os.path.join(test_dir, player)\n",
    "    os.makedirs(train_player_path, exist_ok=True)\n",
    "    os.makedirs(test_player_path, exist_ok=True)\n",
    "\n",
    "    # Get all images and shuffle\n",
    "    images = os.listdir(player_path)\n",
    "    random.shuffle(images)\n",
    "\n",
    "    # Split data\n",
    "    split_idx = int(len(images) * split_ratio)\n",
    "    train_images = images[:split_idx]\n",
    "    test_images = images[split_idx:]\n",
    "\n",
    "    # Copy images to respective folders\n",
    "    for img in train_images:\n",
    "        shutil.copy(os.path.join(player_path, img), os.path.join(train_player_path, img))\n",
    "    \n",
    "    for img in test_images:\n",
    "        shutil.copy(os.path.join(player_path, img), os.path.join(test_player_path, img))\n"
   ]
  },
  {
   "cell_type": "markdown",
   "metadata": {},
   "source": [
    "### Augment training set"
   ]
  },
  {
   "cell_type": "code",
   "execution_count": 5,
   "metadata": {},
   "outputs": [
    {
     "name": "stderr",
     "output_type": "stream",
     "text": [
      "Augmenting Training Set: 100%|██████████| 26/26 [00:04<00:00,  5.71it/s]\n"
     ]
    }
   ],
   "source": [
    "import cv2\n",
    "import albumentations as A\n",
    "\n",
    "# Augmentation pipeline\n",
    "augmentations = A.Compose([\n",
    "    A.HorizontalFlip(p=0.5),\n",
    "    A.Rotate(limit=30, p=0.5),\n",
    "    A.RandomBrightnessContrast(p=0.5),\n",
    "    A.RandomScale(scale_limit=0.2, p=0.5),\n",
    "])\n",
    "\n",
    "# Apply augmentation\n",
    "for player in tqdm(os.listdir(train_dir), desc=\"Augmenting Training Set\"):\n",
    "    player_train_path = os.path.join(train_dir, player)\n",
    "\n",
    "    if not os.path.isdir(player_train_path):\n",
    "        continue\n",
    "\n",
    "    for img_name in os.listdir(player_train_path):\n",
    "        img_path = os.path.join(player_train_path, img_name)\n",
    "        img = cv2.imread(img_path)\n",
    "\n",
    "        if img is None:\n",
    "            continue\n",
    "\n",
    "        img_rgb = cv2.cvtColor(img, cv2.COLOR_BGR2RGB)\n",
    "        augmented = augmentations(image=img_rgb)[\"image\"]\n",
    "        augmented_bgr = cv2.cvtColor(augmented, cv2.COLOR_RGB2BGR)\n",
    "\n",
    "        output_path = os.path.join(player_train_path, f\"aug_{img_name}\")\n",
    "        cv2.imwrite(output_path, augmented_bgr)\n"
   ]
  },
  {
   "cell_type": "markdown",
   "metadata": {},
   "source": [
    "## create Embedding "
   ]
  },
  {
   "cell_type": "code",
   "execution_count": 4,
   "metadata": {},
   "outputs": [
    {
     "name": "stdout",
     "output_type": "stream",
     "text": [
      "Embeddings extraction completed and saved in 'embeddings'.\n"
     ]
    }
   ],
   "source": [
    "import os\n",
    "import torch\n",
    "import numpy as np\n",
    "from facenet_pytorch import MTCNN, InceptionResnetV1\n",
    "from PIL import Image\n",
    "import cv2\n",
    "\n",
    "# Initialize MTCNN for face detection and InceptionResnetV1 for face recognition\n",
    "mtcnn = MTCNN(keep_all=True)\n",
    "model = InceptionResnetV1(pretrained='vggface2').eval()\n",
    "\n",
    "# Path to the augmented images\n",
    "input_dir = \"dataset/test\"\n",
    "output_dir = \"embeddings_test\"\n",
    "\n",
    "# Create output directory for storing embeddings\n",
    "if not os.path.exists(output_dir):\n",
    "    os.makedirs(output_dir)\n",
    "\n",
    "# Function to get embeddings for an image\n",
    "def get_embeddings(image_path):\n",
    "    img = Image.open(image_path)\n",
    "    img_cropped = mtcnn(img)  # Detect faces\n",
    "\n",
    "    if img_cropped is not None:\n",
    "        embeddings = model(img_cropped)  # Get embeddings\n",
    "        return embeddings.detach().cpu().numpy()\n",
    "    return None\n",
    "\n",
    "# Process each player's folder\n",
    "for player in os.listdir(input_dir):\n",
    "    player_input_path = os.path.join(input_dir, player)\n",
    "    player_embedding_path = os.path.join(output_dir, player)\n",
    "\n",
    "    # Create player's folder for embeddings\n",
    "    if not os.path.exists(player_embedding_path):\n",
    "        os.makedirs(player_embedding_path)\n",
    "\n",
    "    # Process each augmented image\n",
    "    for img_name in os.listdir(player_input_path):\n",
    "        img_path = os.path.join(player_input_path, img_name)\n",
    "\n",
    "        # Get embeddings\n",
    "        embeddings = get_embeddings(img_path)\n",
    "        if embeddings is not None:\n",
    "            # Save embeddings as a .npy file\n",
    "            np.save(os.path.join(player_embedding_path, f\"{img_name.split('.')[0]}.npy\"), embeddings)\n",
    "\n",
    "print(\"Embeddings extraction completed and saved in 'embeddings'.\")\n",
    "\n"
   ]
  },
  {
   "cell_type": "markdown",
   "metadata": {},
   "source": [
    "## Train Face-recognition Model"
   ]
  },
  {
   "cell_type": "code",
   "execution_count": 3,
   "metadata": {},
   "outputs": [
    {
     "name": "stdout",
     "output_type": "stream",
     "text": [
      "Shape of X: (863, 512)\n",
      "Shape of y: (863,)\n",
      "Player labels mapping: {'Alexis_Mac_Allister': 0, 'Angel_di_maria': 1, 'Antoine_Griezmann': 2, 'Bernardo Silva': 3, 'Cristiano_Ronaldo': 4, 'Emiliano_martinez': 5, 'Erling Haaland': 6, 'Harry Kane': 7, 'Joshua_Kimmich': 8, 'Jude Bellingham': 9, 'Julian_Alvarez': 10, 'Karim_Benzema': 11, 'Kevin De Bruyne': 12, 'Kylian Mbappe': 13, 'Lautaro_Martinez': 14, 'Lionel Messi': 15, 'Luka_Modric': 16, 'Mohamed Salah': 17, 'Neymar_Jr': 18, 'Robert_Lewandowski': 19, 'Rodri': 20, 'Rodrigo_De_Paul': 21, 'Sadio_Mane': 22, 'Thibaut_Courtois': 23, 'Vinicius Junior': 24, 'Virgil_van_Dijk': 25}\n"
     ]
    }
   ],
   "source": [
    "import os\n",
    "import numpy as np\n",
    "\n",
    "# Path to embeddings folder\n",
    "embedding_dir = \"embeddings_train\"\n",
    "\n",
    "X_train, y_train = [], []\n",
    "player_labels_train = {}  # Mapping of player names to numerical labels\n",
    "\n",
    "# Assign numerical labels to players\n",
    "for idx, player in enumerate(sorted(os.listdir(embedding_dir))):  # Sort for consistency\n",
    "    player_path = os.path.join(embedding_dir, player)\n",
    "    \n",
    "    if os.path.isdir(player_path):\n",
    "        player_labels_train[player] = idx  # Assign an index to each player\n",
    "\n",
    "        # Load all embeddings in the folder\n",
    "        for file in os.listdir(player_path):\n",
    "            if file.endswith(\".npy\"):\n",
    "                embedding = np.load(os.path.join(player_path, file))\n",
    "\n",
    "                # Ensure embedding is 1D (flatten if needed)\n",
    "                if len(embedding.shape) > 1:  \n",
    "                    embedding = embedding.reshape(-1)  # Flatten to 1D\n",
    "\n",
    "                # Check if embedding has the correct size (512 for FaceNet)\n",
    "                if embedding.shape[0] == 512:\n",
    "                    X_train.append(embedding)\n",
    "                    y_train.append(idx)  # Store numerical label\n",
    "\n",
    "# Convert to NumPy arrays\n",
    "X_train = np.array(X_train, dtype=np.float32)  # Ensure float32 for ML models\n",
    "y_train = np.array(y_train, dtype=np.int32)    # Ensure int labels\n",
    "\n",
    "# Print dataset shape\n",
    "print(\"Shape of X:\", X_train.shape)  # Should be (num_samples, 512)\n",
    "print(\"Shape of y:\", y_train.shape)  # Should be (num_samples,)\n",
    "print(\"Player labels mapping:\", player_labels_train)\n"
   ]
  },
  {
   "cell_type": "code",
   "execution_count": 4,
   "metadata": {},
   "outputs": [
    {
     "name": "stdout",
     "output_type": "stream",
     "text": [
      "Shape of X: (124, 512)\n",
      "Shape of y: (124,)\n",
      "Player labels mapping: {'Alexis_Mac_Allister': 0, 'Angel_di_maria': 1, 'Antoine_Griezmann': 2, 'Bernardo Silva': 3, 'Cristiano_Ronaldo': 4, 'Emiliano_martinez': 5, 'Erling Haaland': 6, 'Harry Kane': 7, 'Joshua_Kimmich': 8, 'Jude Bellingham': 9, 'Julian_Alvarez': 10, 'Karim_Benzema': 11, 'Kevin De Bruyne': 12, 'Kylian Mbappe': 13, 'Lautaro_Martinez': 14, 'Lionel Messi': 15, 'Luka_Modric': 16, 'Mohamed Salah': 17, 'Neymar_Jr': 18, 'Robert_Lewandowski': 19, 'Rodri': 20, 'Rodrigo_De_Paul': 21, 'Sadio_Mane': 22, 'Thibaut_Courtois': 23, 'Vinicius Junior': 24, 'Virgil_van_Dijk': 25}\n"
     ]
    }
   ],
   "source": [
    "import os\n",
    "import numpy as np\n",
    "\n",
    "# Path to embeddings folder\n",
    "embedding_dir = \"embeddings_test\"\n",
    "\n",
    "X_test, y_test = [], []\n",
    "player_labels_test = {}  # Mapping of player names to numerical labels\n",
    "\n",
    "# Assign numerical labels to players\n",
    "for idx, player in enumerate(sorted(os.listdir(embedding_dir))):  # Sort for consistency\n",
    "    player_path = os.path.join(embedding_dir, player)\n",
    "    \n",
    "    if os.path.isdir(player_path):\n",
    "        player_labels_test[player] = idx  # Assign an index to each player\n",
    "\n",
    "        # Load all embeddings in the folder\n",
    "        for file in os.listdir(player_path):\n",
    "            if file.endswith(\".npy\"):\n",
    "                embedding = np.load(os.path.join(player_path, file))\n",
    "\n",
    "                # Ensure embedding is 1D (flatten if needed)\n",
    "                if len(embedding.shape) > 1:  \n",
    "                    embedding = embedding.reshape(-1)  # Flatten to 1D\n",
    "\n",
    "                # Check if embedding has the correct size (512 for FaceNet)\n",
    "                if embedding.shape[0] == 512:\n",
    "                    X_test.append(embedding)\n",
    "                    y_test.append(idx)  # Store numerical label\n",
    "\n",
    "# Convert to NumPy arrays\n",
    "X_test = np.array(X_test, dtype=np.float32)  # Ensure float32 for ML models\n",
    "y_test = np.array(y_test, dtype=np.int32)    # Ensure int labels\n",
    "\n",
    "# Print dataset shape\n",
    "print(\"Shape of X:\", X_test.shape)  # Should be (num_samples, 512)\n",
    "print(\"Shape of y:\", y_test.shape)  # Should be (num_samples,)\n",
    "print(\"Player labels mapping:\", player_labels_test)\n"
   ]
  },
  {
   "cell_type": "code",
   "execution_count": 5,
   "metadata": {},
   "outputs": [],
   "source": [
    "# Reshape X to have the correct shape (samples, features)\n",
    "X_train = X_train.reshape(X_train.shape[0], -1)  # (num_samples, 512)\n"
   ]
  },
  {
   "cell_type": "code",
   "execution_count": 6,
   "metadata": {},
   "outputs": [
    {
     "name": "stdout",
     "output_type": "stream",
     "text": [
      "Label encoder saved successfully!\n"
     ]
    }
   ],
   "source": [
    "import joblib\n",
    "from sklearn.preprocessing import LabelEncoder\n",
    "\n",
    "# Your dictionary of player names and labels\n",
    "player_dict = {\n",
    "    'Alexis_Mac_Allister': 0, 'Angel_di_maria': 1, 'Antoine_Griezmann': 2, 'Bernardo Silva': 3,\n",
    "    'Cristiano_Ronaldo': 4, 'Emiliano_martinez': 5, 'Erling Haaland': 6, 'Harry Kane': 7,\n",
    "    'Joshua_Kimmich': 8, 'Jude Bellingham': 9, 'Julian_Alvarez': 10, 'Karim_Benzema': 11,\n",
    "    'Kevin De Bruyne': 12, 'Kylian Mbappe': 13, 'Lautaro_Martinez': 14, 'Lionel Messi': 15,\n",
    "    'Luka_Modric': 16, 'Mohamed Salah': 17, 'Neymar_Jr': 18, 'Robert_Lewandowski': 19,\n",
    "    'Rodri': 20, 'Rodrigo_De_Paul': 21, 'Sadio_Mane': 22, 'Thibaut_Courtois': 23,\n",
    "    'Vinicius Junior': 24, 'Virgil_van_Dijk': 25\n",
    "}\n",
    "\n",
    "# Create LabelEncoder instance\n",
    "label_encoder = LabelEncoder()\n",
    "\n",
    "# Fit encoder with player names (keys of dictionary)\n",
    "label_encoder.fit(list(player_dict.keys()))\n",
    "\n",
    "# Save the label encoder\n",
    "joblib.dump(label_encoder, \"player_labels.pkl\")\n",
    "\n",
    "print(\"Label encoder saved successfully!\")\n"
   ]
  },
  {
   "cell_type": "code",
   "execution_count": 24,
   "metadata": {},
   "outputs": [],
   "source": [
    "from tensorflow.keras import layers, models\n",
    "from tensorflow.keras.callbacks import EarlyStopping\n",
    "\n",
    "# Define early stopping callback\n",
    "early_stopping = EarlyStopping(\n",
    "    monitor='val_accuracy',  # Monitor validation accuracy\n",
    "    patience=5,  # Stop if no improvement for 5 epochs\n",
    "    restore_best_weights=True  # Restore model to best weights\n",
    ")\n",
    "\n",
    "model = models.Sequential([\n",
    "    layers.Input(shape=(512,)),  # Input shape should be (512,)\n",
    "    layers.Dense(128, activation=\"relu\"),\n",
    "    layers.Dropout(0.2),\n",
    "    layers.Dense(64, activation=\"relu\"),\n",
    "    layers.Dropout(0.2),\n",
    "    layers.Dense(26, activation=\"softmax\")  # Output layer\n",
    "])\n",
    "\n",
    "model.compile(optimizer=\"adam\", loss=\"sparse_categorical_crossentropy\", metrics=[\"accuracy\"])\n"
   ]
  },
  {
   "cell_type": "code",
   "execution_count": 25,
   "metadata": {},
   "outputs": [
    {
     "name": "stdout",
     "output_type": "stream",
     "text": [
      "Epoch 1/30\n",
      "\u001b[1m54/54\u001b[0m \u001b[32m━━━━━━━━━━━━━━━━━━━━\u001b[0m\u001b[37m\u001b[0m \u001b[1m3s\u001b[0m 14ms/step - accuracy: 0.2408 - loss: 3.1609 - val_accuracy: 0.6210 - val_loss: 2.5494\n",
      "Epoch 2/30\n",
      "\u001b[1m54/54\u001b[0m \u001b[32m━━━━━━━━━━━━━━━━━━━━\u001b[0m\u001b[37m\u001b[0m \u001b[1m0s\u001b[0m 7ms/step - accuracy: 0.6616 - loss: 2.1193 - val_accuracy: 0.7903 - val_loss: 1.2565\n",
      "Epoch 3/30\n",
      "\u001b[1m54/54\u001b[0m \u001b[32m━━━━━━━━━━━━━━━━━━━━\u001b[0m\u001b[37m\u001b[0m \u001b[1m0s\u001b[0m 7ms/step - accuracy: 0.8012 - loss: 1.0752 - val_accuracy: 0.8387 - val_loss: 0.7143\n",
      "Epoch 4/30\n",
      "\u001b[1m54/54\u001b[0m \u001b[32m━━━━━━━━━━━━━━━━━━━━\u001b[0m\u001b[37m\u001b[0m \u001b[1m0s\u001b[0m 7ms/step - accuracy: 0.8912 - loss: 0.5409 - val_accuracy: 0.8548 - val_loss: 0.5435\n",
      "Epoch 5/30\n",
      "\u001b[1m54/54\u001b[0m \u001b[32m━━━━━━━━━━━━━━━━━━━━\u001b[0m\u001b[37m\u001b[0m \u001b[1m0s\u001b[0m 7ms/step - accuracy: 0.9250 - loss: 0.3833 - val_accuracy: 0.8871 - val_loss: 0.4897\n",
      "Epoch 6/30\n",
      "\u001b[1m54/54\u001b[0m \u001b[32m━━━━━━━━━━━━━━━━━━━━\u001b[0m\u001b[37m\u001b[0m \u001b[1m0s\u001b[0m 7ms/step - accuracy: 0.9410 - loss: 0.2919 - val_accuracy: 0.8952 - val_loss: 0.4505\n",
      "Epoch 7/30\n",
      "\u001b[1m54/54\u001b[0m \u001b[32m━━━━━━━━━━━━━━━━━━━━\u001b[0m\u001b[37m\u001b[0m \u001b[1m1s\u001b[0m 9ms/step - accuracy: 0.9568 - loss: 0.2159 - val_accuracy: 0.8952 - val_loss: 0.4512\n",
      "Epoch 8/30\n",
      "\u001b[1m54/54\u001b[0m \u001b[32m━━━━━━━━━━━━━━━━━━━━\u001b[0m\u001b[37m\u001b[0m \u001b[1m0s\u001b[0m 7ms/step - accuracy: 0.9650 - loss: 0.1929 - val_accuracy: 0.8952 - val_loss: 0.4233\n",
      "Epoch 9/30\n",
      "\u001b[1m54/54\u001b[0m \u001b[32m━━━━━━━━━━━━━━━━━━━━\u001b[0m\u001b[37m\u001b[0m \u001b[1m0s\u001b[0m 7ms/step - accuracy: 0.9559 - loss: 0.1900 - val_accuracy: 0.9113 - val_loss: 0.4259\n",
      "Epoch 10/30\n",
      "\u001b[1m54/54\u001b[0m \u001b[32m━━━━━━━━━━━━━━━━━━━━\u001b[0m\u001b[37m\u001b[0m \u001b[1m0s\u001b[0m 7ms/step - accuracy: 0.9738 - loss: 0.1215 - val_accuracy: 0.9032 - val_loss: 0.4449\n",
      "Epoch 11/30\n",
      "\u001b[1m54/54\u001b[0m \u001b[32m━━━━━━━━━━━━━━━━━━━━\u001b[0m\u001b[37m\u001b[0m \u001b[1m0s\u001b[0m 7ms/step - accuracy: 0.9813 - loss: 0.1188 - val_accuracy: 0.9113 - val_loss: 0.4552\n",
      "Epoch 12/30\n",
      "\u001b[1m54/54\u001b[0m \u001b[32m━━━━━━━━━━━━━━━━━━━━\u001b[0m\u001b[37m\u001b[0m \u001b[1m0s\u001b[0m 7ms/step - accuracy: 0.9796 - loss: 0.1007 - val_accuracy: 0.9113 - val_loss: 0.4597\n",
      "Epoch 13/30\n",
      "\u001b[1m54/54\u001b[0m \u001b[32m━━━━━━━━━━━━━━━━━━━━\u001b[0m\u001b[37m\u001b[0m \u001b[1m0s\u001b[0m 7ms/step - accuracy: 0.9834 - loss: 0.0915 - val_accuracy: 0.8952 - val_loss: 0.4704\n",
      "Epoch 14/30\n",
      "\u001b[1m54/54\u001b[0m \u001b[32m━━━━━━━━━━━━━━━━━━━━\u001b[0m\u001b[37m\u001b[0m \u001b[1m0s\u001b[0m 8ms/step - accuracy: 0.9821 - loss: 0.1002 - val_accuracy: 0.9032 - val_loss: 0.4718\n"
     ]
    },
    {
     "data": {
      "text/plain": [
       "<keras.src.callbacks.history.History at 0x20f7fbd2b70>"
      ]
     },
     "execution_count": 25,
     "metadata": {},
     "output_type": "execute_result"
    }
   ],
   "source": [
    "model.fit(\n",
    "    X_train, y_train,\n",
    "    epochs=30,\n",
    "    batch_size=16,\n",
    "    validation_data=(X_test, y_test),\n",
    "    callbacks=[early_stopping]  # Add callback\n",
    ")\n"
   ]
  },
  {
   "cell_type": "code",
   "execution_count": 26,
   "metadata": {},
   "outputs": [
    {
     "name": "stderr",
     "output_type": "stream",
     "text": [
      "WARNING:absl:You are saving your model as an HDF5 file via `model.save()` or `keras.saving.save_model(model)`. This file format is considered legacy. We recommend using instead the native Keras format, e.g. `model.save('my_model.keras')` or `keras.saving.save_model(model, 'my_model.keras')`. \n"
     ]
    }
   ],
   "source": [
    "model.save(\"face_recognition_model_updated.h5\")\n"
   ]
  },
  {
   "cell_type": "code",
   "execution_count": 33,
   "metadata": {},
   "outputs": [
    {
     "name": "stdout",
     "output_type": "stream",
     "text": [
      "\u001b[1m4/4\u001b[0m \u001b[32m━━━━━━━━━━━━━━━━━━━━\u001b[0m\u001b[37m\u001b[0m \u001b[1m0s\u001b[0m 24ms/step\n"
     ]
    }
   ],
   "source": [
    "from sklearn.metrics import classification_report, confusion_matrix\n",
    "\n",
    "y_pred = model.predict(X_test)\n",
    "y_pred_classes=y_pred.argmax(axis=1)"
   ]
  },
  {
   "cell_type": "code",
   "execution_count": 34,
   "metadata": {},
   "outputs": [
    {
     "data": {
      "text/plain": [
       "(124,)"
      ]
     },
     "execution_count": 34,
     "metadata": {},
     "output_type": "execute_result"
    }
   ],
   "source": [
    "y_test.shape"
   ]
  },
  {
   "cell_type": "code",
   "execution_count": 36,
   "metadata": {},
   "outputs": [
    {
     "data": {
      "text/plain": [
       "(124,)"
      ]
     },
     "execution_count": 36,
     "metadata": {},
     "output_type": "execute_result"
    }
   ],
   "source": [
    "y_pred_classes.shape"
   ]
  },
  {
   "cell_type": "code",
   "execution_count": 38,
   "metadata": {},
   "outputs": [
    {
     "data": {
      "text/plain": [
       "0"
      ]
     },
     "execution_count": 38,
     "metadata": {},
     "output_type": "execute_result"
    }
   ],
   "source": [
    "y_pred_classes[1]"
   ]
  },
  {
   "cell_type": "code",
   "execution_count": 39,
   "metadata": {},
   "outputs": [
    {
     "data": {
      "text/plain": [
       "0"
      ]
     },
     "execution_count": 39,
     "metadata": {},
     "output_type": "execute_result"
    }
   ],
   "source": [
    "y_test[1]"
   ]
  },
  {
   "cell_type": "code",
   "execution_count": 41,
   "metadata": {},
   "outputs": [
    {
     "data": {
      "image/png": "[encoded data removed]",
      "text/plain": [
       "<Figure size 640x480 with 2 Axes>"
      ]
     },
     "metadata": {},
     "output_type": "display_data"
    },
    {
     "name": "stdout",
     "output_type": "stream",
     "text": [
      "              precision    recall  f1-score   support\n",
      "\n",
      "           0       1.00      1.00      1.00         4\n",
      "           1       1.00      1.00      1.00         4\n",
      "           2       1.00      0.80      0.89         5\n",
      "           3       1.00      0.33      0.50         3\n",
      "           4       0.80      1.00      0.89         4\n",
      "           5       0.75      1.00      0.86         3\n",
      "           6       1.00      1.00      1.00         6\n",
      "           7       0.78      0.88      0.82         8\n",
      "           8       0.83      1.00      0.91         5\n",
      "           9       1.00      1.00      1.00         3\n",
      "          10       1.00      0.75      0.86         4\n",
      "          11       1.00      1.00      1.00         2\n",
      "          12       0.88      1.00      0.93         7\n",
      "          13       1.00      0.90      0.95        10\n",
      "          14       1.00      0.57      0.73         7\n",
      "          15       1.00      1.00      1.00         7\n",
      "          16       0.80      1.00      0.89         4\n",
      "          17       0.82      1.00      0.90         9\n",
      "          18       1.00      0.50      0.67         4\n",
      "          19       1.00      1.00      1.00         3\n",
      "          20       0.67      1.00      0.80         4\n",
      "          21       1.00      1.00      1.00         5\n",
      "          22       1.00      1.00      1.00         4\n",
      "          23       1.00      1.00      1.00         4\n",
      "          24       1.00      1.00      1.00         2\n",
      "          25       1.00      1.00      1.00         3\n",
      "\n",
      "    accuracy                           0.91       124\n",
      "   macro avg       0.94      0.91      0.91       124\n",
      "weighted avg       0.93      0.91      0.91       124\n",
      "\n"
     ]
    }
   ],
   "source": [
    "from sklearn.metrics import confusion_matrix, classification_report\n",
    "import seaborn as sns\n",
    "import matplotlib.pyplot as plt\n",
    "\n",
    "# # Convert predictions to class labels\n",
    "# y_pred_classes = y_pred.argmax(axis=1)\n",
    "\n",
    "# Confusion Matrix\n",
    "cm = confusion_matrix(y_test, y_pred_classes)\n",
    "sns.heatmap(cm, annot=True, fmt=\"d\", cmap=\"Blues\")\n",
    "plt.xlabel(\"Predicted\")\n",
    "plt.ylabel(\"Actual\")\n",
    "plt.title(\"Confusion Matrix\")\n",
    "plt.show()\n",
    "\n",
    "# Classification Report\n",
    "print(classification_report(y_test, y_pred_classes))\n"
   ]
  },
  {
   "cell_type": "code",
   "execution_count": null,
   "metadata": {},
   "outputs": [],
   "source": []
  }
 ],
 "metadata": {
  "kernelspec": {
   "display_name": "base",
   "language": "python",
   "name": "python3"
  },
  "language_info": {
   "codemirror_mode": {
    "name": "ipython",
    "version": 3
   },
   "file_extension": ".py",
   "mimetype": "text/x-python",
   "name": "python",
   "nbconvert_exporter": "python",
   "pygments_lexer": "ipython3",
   "version": "3.12.3"
  }
 },
 "nbformat": 4,
 "nbformat_minor": 2
}
